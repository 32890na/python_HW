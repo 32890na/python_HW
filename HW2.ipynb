{
 "cells": [
  {
   "cell_type": "markdown",
   "metadata": {},
   "source": [
    "# Merge sorted stream\n",
    "Write a generator function that takes two sorted streams (generators), and return a generator that can produce a merged stream in sorted order.\n",
    "\n",
    "Bonus point: can you make it generic such that it can merge any number of streams?"
   ]
  },
  {
   "cell_type": "code",
   "execution_count": 35,
   "metadata": {},
   "outputs": [
    {
     "name": "stdout",
     "output_type": "stream",
     "text": [
      "0\n",
      "1\n",
      "2\n",
      "3\n",
      "4\n",
      "5\n",
      "6\n",
      "7\n",
      "8\n",
      "9\n"
     ]
    }
   ],
   "source": [
    "# two streams version\n",
    "# compare the current minimum value for the two streams.\n",
    "def merge_sorted_stream(stream1, stream2):\n",
    "    \n",
    "    iter1 = iter(stream1)\n",
    "    iter2 = iter(stream2)\n",
    "    \n",
    "    try:\n",
    "        temp_v1 = next(iter1)\n",
    "    except StopIteration:\n",
    "        iter1 = None\n",
    "    try:\n",
    "        temp_v2 = next(iter2)\n",
    "    except StopIteration:\n",
    "        iter2 = None\n",
    "      \n",
    "    while ((iter1) or (iter2)):\n",
    "        if(not iter2):\n",
    "            yield temp_v1\n",
    "            try:\n",
    "                temp_v1 = next(iter1)\n",
    "            except StopIteration:\n",
    "                iter1 = None\n",
    "            \n",
    "        elif(not iter1):\n",
    "            yield temp_v2\n",
    "            try:\n",
    "                temp_v2 = next(iter2)\n",
    "            except StopIteration:\n",
    "                iter2 = None\n",
    "        else:\n",
    "            if(temp_v1 < temp_v2):\n",
    "                yield temp_v1\n",
    "                try:\n",
    "                    temp_v1 = next(iter1)\n",
    "                except StopIteration:\n",
    "                    iter1 = None\n",
    "            else:\n",
    "                yield temp_v2\n",
    "                try:\n",
    "                    temp_v2 =next(iter2)\n",
    "                except StopIteration:\n",
    "                    iter2 = None\n",
    "\n",
    "                    \n",
    "##test\n",
    "stream1 = range(0, 10, 2)\n",
    "stream2 = range(1, 10, 2)\n",
    "\n",
    "for x in merge_sorted_stream(stream1, stream2):\n",
    "    print(x)"
   ]
  },
  {
   "cell_type": "code",
   "execution_count": 33,
   "metadata": {},
   "outputs": [
    {
     "name": "stdout",
     "output_type": "stream",
     "text": [
      "0\n",
      "1\n",
      "2\n",
      "3\n",
      "4\n",
      "5\n",
      "6\n",
      "7\n",
      "8\n",
      "9\n"
     ]
    }
   ],
   "source": [
    "# generic version, a recursive method\n",
    "def generic_merge_sorted_stream(*args):\n",
    "    temp = merge_sorted_stream(args[0],args[1])\n",
    "    ##if only two argument, its same as before\n",
    "    if(len(args) == 2):\n",
    "        for x in temp:\n",
    "            yield x\n",
    "    ##if there are more than two argument, we use this result to reduce one dimension of argument\n",
    "    else:\n",
    "        for x in generic_merge_sorted_stream(temp,*args[2:]):\n",
    "            yield x\n",
    "\n",
    "stream1 = range(0, 10, 3)\n",
    "stream2 = range(1, 10, 3)\n",
    "stream3 = range(2, 10, 3)\n",
    "for x in generic_merge_sorted_stream(stream1, stream2,stream3):\n",
    "    print(x)"
   ]
  },
  {
   "cell_type": "markdown",
   "metadata": {},
   "source": [
    "# Tree"
   ]
  },
  {
   "cell_type": "code",
   "execution_count": 37,
   "metadata": {},
   "outputs": [
    {
     "name": "stdout",
     "output_type": "stream",
     "text": [
      "4 -> 2 -> 5 -> 1 -> 3\n",
      "1 -> 2 -> 4 -> 5 -> 3\n",
      "4 -> 5 -> 2 -> 3 -> 1\n"
     ]
    }
   ],
   "source": [
    "class TreeNode:\n",
    "    def __init__(self, rootObj):\n",
    "        self.key = str(rootObj)\n",
    "        self.left = None\n",
    "        self.right = None\n",
    "    def in_order(self):\n",
    "        if self.left:\n",
    "            for i in self.left.in_order():\n",
    "                yield i\n",
    "        yield self.key\n",
    "        if self.right:\n",
    "            for i in self.right.in_order():\n",
    "                yield i\n",
    "\n",
    "    def pre_order(self):\n",
    "        yield self.key\n",
    "        if self.left:\n",
    "            for i in self.left.pre_order():\n",
    "                yield i\n",
    "        if self.right:\n",
    "            for i in self.right.pre_order():\n",
    "                yield i\n",
    "\n",
    "    def post_order(self):\n",
    "        if self.left:\n",
    "            for i in self.left.post_order():\n",
    "                yield i\n",
    "        if self.right:\n",
    "            for i in self.right.post_order():\n",
    "                yield i\n",
    "        yield self.key\n",
    "\n",
    "        \n",
    "\n",
    "#### I implement by stack and iterative mathods in the beginning \n",
    "#### and then I find it can also be implemented by generators and recursions \n",
    "        \n",
    "#     def in_order(self):\n",
    "#         stack = []\n",
    "#         res = []\n",
    "#         root = self\n",
    "#         while stack or root:\n",
    "#             while root:\n",
    "#                 stack.append(root)\n",
    "#                 root = root.left\n",
    "#             if stack:\n",
    "#                 root = stack.pop()\n",
    "#                 res.append(root.key)\n",
    "#                 root = root.right\n",
    "#         return res\n",
    "\n",
    "#     def pre_order(self):\n",
    "#         root = self\n",
    "#         stack = [root]\n",
    "#         res = []\n",
    "#         while stack:\n",
    "#             root = stack.pop()\n",
    "#             res.append(root.key)\n",
    "#             if root.right:\n",
    "#                 stack.append(root.right)\n",
    "#             if root.left:\n",
    "#                 stack.append(root.left)\n",
    "#         return res\n",
    "\n",
    "#     def post_order(self):\n",
    "#         root = self\n",
    "#         stack = []\n",
    "#         res = []\n",
    "#         while stack or root:\n",
    "#             while root:\n",
    "#                 stack.append(root)\n",
    "#                 res.append(root.key)\n",
    "#                 root = root.right\n",
    "#             if stack:\n",
    "#                 root = stack.pop()\n",
    "#                 root = root.left\n",
    "#         return res[::-1]\n",
    "        \n",
    "        \n",
    "root = TreeNode(1)\n",
    "root.left = TreeNode(2)\n",
    "root.right = TreeNode(3)\n",
    "root.left.left = TreeNode(4)\n",
    "root.left.right = TreeNode(5)\n",
    "\n",
    "print(' -> '.join(item for item in root.in_order()))\n",
    "print(' -> '.join(item for item in root.pre_order()))\n",
    "print(' -> '.join(item for item in root.post_order()))"
   ]
  },
  {
   "cell_type": "markdown",
   "metadata": {},
   "source": [
    "# timer"
   ]
  },
  {
   "cell_type": "code",
   "execution_count": 42,
   "metadata": {},
   "outputs": [
    {
     "name": "stdout",
     "output_type": "stream",
     "text": [
      "time: 1.000795841217041 seconds\n",
      "time: 4.000566720962524 seconds\n"
     ]
    }
   ],
   "source": [
    "import timeit\n",
    "class timer:\n",
    "    def __init__(self):\n",
    "        self.begin = 0\n",
    "        self.end = 0\n",
    "    \n",
    "    #decorator\n",
    "    def __call__(self, func):\n",
    "        def inner(x):    \n",
    "            self.begin = time.time()\n",
    "            func(x)\n",
    "            self.end = time.time()\n",
    "            print(f\"time: {self.end - self.begin} seconds\")\n",
    "        return inner\n",
    "    \n",
    "    #context manager\n",
    "    def __enter__(self):\n",
    "        self.begin = time.time()\n",
    "        return self\n",
    "    \n",
    "    def __exit__(self, *exc):\n",
    "        self.end = time.time()\n",
    "        print(f\"time: {self.end - self.begin} seconds\")\n",
    "        return True\n",
    "    \n",
    "    \n",
    "#test of context manager\n",
    "with timer() as timer:\n",
    "    time.sleep(1)\n",
    " \n",
    "#test of decorator\n",
    "\n",
    "@timer\n",
    "def sleep(secs):\n",
    "    time.sleep(secs)\n",
    "sleep(4)"
   ]
  },
  {
   "cell_type": "code",
   "execution_count": null,
   "metadata": {},
   "outputs": [],
   "source": []
  }
 ],
 "metadata": {
  "kernelspec": {
   "display_name": "Python 3",
   "language": "python",
   "name": "python3"
  },
  "language_info": {
   "codemirror_mode": {
    "name": "ipython",
    "version": 3
   },
   "file_extension": ".py",
   "mimetype": "text/x-python",
   "name": "python",
   "nbconvert_exporter": "python",
   "pygments_lexer": "ipython3",
   "version": "3.7.2"
  }
 },
 "nbformat": 4,
 "nbformat_minor": 2
}
