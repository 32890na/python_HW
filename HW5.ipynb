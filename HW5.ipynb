{
 "cells": [
  {
   "cell_type": "code",
   "execution_count": 1,
   "metadata": {},
   "outputs": [],
   "source": [
    "import heapq as hq\n",
    "import numpy as np"
   ]
  },
  {
   "cell_type": "markdown",
   "metadata": {},
   "source": [
    "# Q1"
   ]
  },
  {
   "cell_type": "code",
   "execution_count": 11,
   "metadata": {},
   "outputs": [
    {
     "name": "stdout",
     "output_type": "stream",
     "text": [
      "5\n",
      "5\n",
      "5\n",
      "9\n"
     ]
    }
   ],
   "source": [
    "def kthlarge(data,k):\n",
    "    hq._heapify_max(data)\n",
    "    for i in range(k):\n",
    "        klarge = hq._heappop_max(data)\n",
    "    return klarge\n",
    "# test cases with diffrent size \n",
    "print(kthlarge([3,2,1,5,6,4],2))\n",
    "print(kthlarge([3,2,3,1,2,4,5,5,6],2)) # same value\n",
    "print(kthlarge([3,2,3,1,2,4,5,5,6],2))\n",
    "print(kthlarge(list(range(10)),1)) # a sorted sequence\n",
    "\n",
    "# the time to contruct a heap is O(n)\n",
    "# the time to pop the root and reset the heap is O(logn)\n",
    "# we need k times pop\n",
    "# the total time cost is O(n+k*logn)"
   ]
  },
  {
   "cell_type": "markdown",
   "metadata": {},
   "source": [
    "# Q2 \n",
    "Using python data structure Queue, generate a queue that have 10000 elments. \n",
    "Then use 1, 5, 20 threads to pop out the elments out. \n",
    "Compare the efficiency when you use different number of threads and explain why you see the pattern of performance."
   ]
  },
  {
   "cell_type": "code",
   "execution_count": 17,
   "metadata": {},
   "outputs": [
    {
     "name": "stdout",
     "output_type": "stream",
     "text": [
      "All task requests sent\n"
     ]
    }
   ],
   "source": [
    "import threading, queue\n",
    "import time\n",
    "q=queue.Queue(10000) \n",
    "def worker():\n",
    "    while True:\n",
    "        item = q.get()\n",
    "        q.task_done()\n",
    "# send 10000 task requests to teh worker\n",
    "for item in range(10000):\n",
    "    q.put(item)\n",
    "print('All task requests sent\\n', end='')\n"
   ]
  },
  {
   "cell_type": "code",
   "execution_count": 18,
   "metadata": {},
   "outputs": [],
   "source": [
    "def nthread(n):\n",
    "    for i in range(n):\n",
    "        threading.Thread(target=worker, daemon=True).start()\n",
    "    q.join()"
   ]
  },
  {
   "cell_type": "code",
   "execution_count": 19,
   "metadata": {},
   "outputs": [
    {
     "name": "stdout",
     "output_type": "stream",
     "text": [
      "Wall time: 192 ms\n"
     ]
    }
   ],
   "source": [
    "%time nthread(1)"
   ]
  },
  {
   "cell_type": "code",
   "execution_count": 21,
   "metadata": {},
   "outputs": [
    {
     "name": "stdout",
     "output_type": "stream",
     "text": [
      "Wall time: 4.98 ms\n"
     ]
    }
   ],
   "source": [
    "%time nthread(5)"
   ]
  },
  {
   "cell_type": "code",
   "execution_count": 23,
   "metadata": {},
   "outputs": [
    {
     "name": "stdout",
     "output_type": "stream",
     "text": [
      "Wall time: 20.7 ms\n"
     ]
    }
   ],
   "source": [
    "%time nthread(20)"
   ]
  },
  {
   "cell_type": "code",
   "execution_count": null,
   "metadata": {},
   "outputs": [],
   "source": [
    "# 5 threads function is faster than one thread, because you can deal with several tasks at the same time\n",
    "# 20 threads function is slower than 5 threads, that may be because the number of kernerl in my computer is limited and "
   ]
  }
 ],
 "metadata": {
  "kernelspec": {
   "display_name": "Python 3",
   "language": "python",
   "name": "python3"
  },
  "language_info": {
   "codemirror_mode": {
    "name": "ipython",
    "version": 3
   },
   "file_extension": ".py",
   "mimetype": "text/x-python",
   "name": "python",
   "nbconvert_exporter": "python",
   "pygments_lexer": "ipython3",
   "version": "3.7.2"
  }
 },
 "nbformat": 4,
 "nbformat_minor": 2
}
