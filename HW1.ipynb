{
 "cells": [
  {
   "cell_type": "markdown",
   "metadata": {},
   "source": [
    "#  ANSWER to HW1 from YIAN KANG"
   ]
  },
  {
   "cell_type": "markdown",
   "metadata": {},
   "source": [
    "## 2. Write a Jupyter magic"
   ]
  },
  {
   "cell_type": "code",
   "execution_count": 1,
   "metadata": {},
   "outputs": [],
   "source": [
    "# this is a function to enable jupyter magic\n",
    "from IPython.core.magic import (register_line_magic, register_cell_magic,register_line_cell_magic)\n",
    "@register_line_cell_magic\n",
    "def countwords(line, cell=None):\n",
    "    \"Magic that works both as %countwords and as %%countwords\"\n",
    "    if cell is None:\n",
    "        return len(line.split())\n",
    "    else:\n",
    "        return len(line.split())+len(cell.split())"
   ]
  },
  {
   "cell_type": "code",
   "execution_count": null,
   "metadata": {},
   "outputs": [],
   "source": [
    "#line magic"
   ]
  },
  {
   "cell_type": "code",
   "execution_count": 2,
   "metadata": {},
   "outputs": [
    {
     "data": {
      "text/plain": [
       "5"
      ]
     },
     "execution_count": 2,
     "metadata": {},
     "output_type": "execute_result"
    }
   ],
   "source": [
    "%countwords this is a line magic"
   ]
  },
  {
   "cell_type": "code",
   "execution_count": 5,
   "metadata": {},
   "outputs": [],
   "source": [
    "#cell magic"
   ]
  },
  {
   "cell_type": "code",
   "execution_count": 4,
   "metadata": {},
   "outputs": [
    {
     "data": {
      "text/plain": [
       "5"
      ]
     },
     "execution_count": 4,
     "metadata": {},
     "output_type": "execute_result"
    }
   ],
   "source": [
    "\n",
    "%%countwords\n",
    "\n",
    "this is a magic\n",
    "cell"
   ]
  },
  {
   "cell_type": "markdown",
   "metadata": {},
   "source": [
    "## 3 Profile the speed of list comprehension vs. for loops"
   ]
  },
  {
   "cell_type": "code",
   "execution_count": 8,
   "metadata": {},
   "outputs": [
    {
     "name": "stdout",
     "output_type": "stream",
     "text": [
      "Wall time: 512 ms\n"
     ]
    }
   ],
   "source": [
    "# list comprehension\n",
    "%time l1 = [ i*10+1 for i in range(10**6)]"
   ]
  },
  {
   "cell_type": "code",
   "execution_count": 11,
   "metadata": {},
   "outputs": [
    {
     "name": "stdout",
     "output_type": "stream",
     "text": [
      "Wall time: 918 ms\n"
     ]
    }
   ],
   "source": [
    "%%time\n",
    "# for loops\n",
    "l2=[]\n",
    "for i in range(10**6):\n",
    "    l2.append(i*10+1)"
   ]
  },
  {
   "cell_type": "code",
   "execution_count": 12,
   "metadata": {},
   "outputs": [],
   "source": [
    "# list conprehension is faster than for loops"
   ]
  },
  {
   "cell_type": "markdown",
   "metadata": {},
   "source": [
    "## 4 Prime numbers"
   ]
  },
  {
   "cell_type": "code",
   "execution_count": 23,
   "metadata": {},
   "outputs": [
    {
     "name": "stdout",
     "output_type": "stream",
     "text": [
      "[2, 3, 7, 11]\n"
     ]
    }
   ],
   "source": [
    "from math import *\n",
    "L = [2,3,4,6,7,8,9,11,16]\n",
    "# if x can not be divided by any number in the range(2, sqrt(x)+1), then it is a prime\n",
    "prime= [x for x in L if (x==2 or (x>2 and all([x%factor for factor in range(2,math.ceil(sqrt(x))+1)])))]\n",
    "print(prime)"
   ]
  },
  {
   "cell_type": "markdown",
   "metadata": {},
   "source": [
    "## 5 Extend the Vector class"
   ]
  },
  {
   "cell_type": "code",
   "execution_count": 54,
   "metadata": {},
   "outputs": [],
   "source": [
    "class Vector:\n",
    "\n",
    "    def __init__(self, *args):\n",
    "        # using a list as contanier\n",
    "        # using variant arguments to allow different number of arguments \n",
    "        self.container = [ i for i in args]\n",
    "        self.len = len(self.container)\n",
    "\n",
    "    def __repr__(self):\n",
    "        return self.__str__()\n",
    "    \n",
    "    def __str__(self):\n",
    "        rep = 'Vector('\n",
    "        for i in range(self.len-1):\n",
    "            rep+=(str(self.container[i])+\", \")\n",
    "        rep+=(str(self.container[-1])+')')\n",
    "        return rep\n",
    "    \n",
    "    def __getitem__(self, index): # enable indexing and slicing\n",
    "        if isinstance(index, slice):\n",
    "            return Vector(*self.container[index])\n",
    "        return self.container[index]\n",
    "    \n",
    "    def __len__(self): # number f\n",
    "        return self.len\n",
    "    \n",
    "    def __abs__(self):\n",
    "        # Modulus of vector\n",
    "        return sqrt(sum([i*i for i in self.container]))\n",
    "\n",
    "    def __add__(self, other):\n",
    "        if self.len != len(other):\n",
    "            print (\"UNEQUAL LENGTH ERROE\")\n",
    "            return\n",
    "        ret = [self.container[i]+other.container[i] for i in range(self.len)]\n",
    "        return Vector(*ret)\n",
    "    \n",
    "    def __sub__(self, other):\n",
    "        if self.len != len(other):\n",
    "            print (\"UNEQUAL LENGTH ERROE\")\n",
    "            return\n",
    "        ret = [self.container[i]-other.container[i] for i in range(self.len) ]\n",
    "        return Vector(*ret)\n",
    "    def __mul__(self, mul):\n",
    "        ret = [self.container[i] * mul for i in range(self.len)]\n",
    "        return Vector(*ret)\n",
    "    def __pow__(self,p):\n",
    "        ret = [self.container[i] ** p for i in range(self.len)]\n",
    "        return Vector(*ret)\n"
   ]
  },
  {
   "cell_type": "code",
   "execution_count": 56,
   "metadata": {},
   "outputs": [
    {
     "name": "stdout",
     "output_type": "stream",
     "text": [
      "Vector(1, 2, 3, 4, 5)\n",
      "1\n",
      "Vector(1, 2, 3)\n",
      "5\n",
      "Vector(3, 6, 9, 12, 15)\n",
      "7.416198487095663\n",
      "Vector(4, 8, 12, 16, 20)\n",
      "Vector(-2, -4, -6, -8, -10)\n",
      "Vector(3, 6, 9, 12, 15)\n",
      "Vector(1, 4, 9, 16, 25)\n"
     ]
    }
   ],
   "source": [
    "l = [1,2,3,4,5]\n",
    "v = Vector(*l)\n",
    "print(v)\n",
    "#get item\n",
    "print(v[0])\n",
    "#slicing\n",
    "print(v[:3])\n",
    "#print length\n",
    "print(len(v))\n",
    "v1 = Vector(*[i*3 for i in l])\n",
    "print(v1)\n",
    "print(abs(v))\n",
    "print(v+v1)\n",
    "print(v-v1)\n",
    "print(v*3)\n",
    "print(v**2)"
   ]
  },
  {
   "cell_type": "markdown",
   "metadata": {},
   "source": [
    "## 6 Case-insensitive dictionary"
   ]
  },
  {
   "cell_type": "code",
   "execution_count": 69,
   "metadata": {},
   "outputs": [],
   "source": [
    "from collections import UserDict\n",
    "# class CaseInsensitiveDict inherits from UserDict\n",
    "# there are 3 important functions: contain, getitem and setitem\n",
    "# which are all alterd to be case insensitive\n",
    "# when a diffrent case of a orignal key comes, I still use the original key, so that original key can be stored.\n",
    "class CaseInsensitiveDict(UserDict):\n",
    "    \n",
    "     # initialize using UserDict, we can initial it by an argument like a =1 ;\n",
    "    def __init__(self,data = {}, **kw):\n",
    "        self.dict = UserDict()\n",
    "        self.update(data)\n",
    "        self.update(kw)\n",
    "    \n",
    "    def __str__(self):\n",
    "        return self.dict.__str__()\n",
    "    \n",
    "    def __contains__(self, key):\n",
    "        # we recoginize a key's existence if upper or lower case of the key in the dictionary \n",
    "        if str(key).upper() in self.dict or str(key).lower() in self.dict:\n",
    "            return True\n",
    "        return False\n",
    "\n",
    "    def __setitem__(self, key, value):\n",
    "        # if a diffrence case come, always use the original key\n",
    "        if str(key).upper() in self.dict:\n",
    "            self.dict[str(key).upper()] = value\n",
    "        elif str(key).lower() in self.dict:\n",
    "            self.dict[str(key).lower()] = value\n",
    "        else:\n",
    "            self.dict[str(key)] = value\n",
    "    \n",
    "    def __getitem__(self, key):\n",
    "        #if a diffrent case of a key come, find the value of this key\n",
    "        if str(key).upper() in self.dict:\n",
    "            return self.dict[str(key).upper()]\n",
    "        elif str(key).lower() in self.dict:\n",
    "            return self.dict[str(key).lower()]\n",
    "        else:\n",
    "            print (\"No Such Key\")"
   ]
  },
  {
   "cell_type": "code",
   "execution_count": 71,
   "metadata": {},
   "outputs": [
    {
     "name": "stdout",
     "output_type": "stream",
     "text": [
      "{'c': 2}\n",
      "3\n",
      "4\n",
      "{'c': 2, 'A': 4}\n"
     ]
    }
   ],
   "source": [
    "#initialize the dict\n",
    "d = CaseInsensitiveDict(c = 1,C=2) \n",
    "# orignal key \"c\" will be stored, and becasue the dict is case insensitive, the new value 2 will be given to c\n",
    "print(d)\n",
    "# set items\n",
    "d['A'] = 3\n",
    "#get items\n",
    "print(d['a'])\n",
    "d['a'] = 4\n",
    "print(d['a'])\n",
    "# new value 4 will be given to the original ket \"A\"\n",
    "print(d)"
   ]
  },
  {
   "cell_type": "code",
   "execution_count": null,
   "metadata": {},
   "outputs": [],
   "source": []
  }
 ],
 "metadata": {
  "kernelspec": {
   "display_name": "Python 3",
   "language": "python",
   "name": "python3"
  },
  "language_info": {
   "codemirror_mode": {
    "name": "ipython",
    "version": 3
   },
   "file_extension": ".py",
   "mimetype": "text/x-python",
   "name": "python",
   "nbconvert_exporter": "python",
   "pygments_lexer": "ipython3",
   "version": "3.7.2"
  }
 },
 "nbformat": 4,
 "nbformat_minor": 2
}
